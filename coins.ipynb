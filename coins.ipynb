{
 "cells": [
  {
   "cell_type": "code",
   "execution_count": 3,
   "id": "84a06de7",
   "metadata": {},
   "outputs": [],
   "source": [
    "class Coins():\n",
    "\n",
    "    def weights(self):\n",
    "        return int(round(self.total_weight / self.weight))\n",
    "\n",
    "    def needed_wrappers(self):\n",
    "        return int(round(self.total_coins() / self.coins_per_wrapper))\n",
    "    \n",
    "    def total_sum(self):\n",
    "        print(f\"Your total sum is: {self.needed_wrappers() * 0.50} dollars\")\n",
    "        \n",
    "    def parameters(self, question, total_weight):\n",
    "        \n",
    "        self.question = input(\"What type of coins do you have? \")\n",
    "        \n",
    "        if self.question == \"pennies\":\n",
    "            self.weight = 2.50\n",
    "            self.coins_per_wrapper = 50\n",
    "        \n",
    "        elif self.question == \"nickels\":\n",
    "            self.weight = 5\n",
    "            self.coins_per_wrapper = 40\n",
    "        \n",
    "        elif self.question == \"dimes\":\n",
    "            self.weight = 2.268\n",
    "            self.coins_per_wrapper = 50\n",
    "        \n",
    "        elif self.question == \"quarters\":\n",
    "            self.weight = 5.67\n",
    "            self.coins_per_wrapper = 40\n",
    "        \n",
    "        elif self.question == \"half dollars\":\n",
    "            self.weight = 11.34\n",
    "            self.coins_per_wrapper = 20\n",
    "        \n",
    "        elif self.question == \"dollars\":\n",
    "            self.weight = 22.68\n",
    "            self.coins_per_wrapper = 25\n",
    "        \n",
    "        self.total_weight = int(input(\"How much do your coins weight? \"))"
   ]
  },
  {
   "cell_type": "code",
   "execution_count": 4,
   "id": "4e46df4f",
   "metadata": {},
   "outputs": [],
   "source": [
    "c = Coins()"
   ]
  },
  {
   "cell_type": "code",
   "execution_count": 7,
   "id": "a36cb958",
   "metadata": {},
   "outputs": [
    {
     "data": {
      "text/plain": [
       "16"
      ]
     },
     "execution_count": 7,
     "metadata": {},
     "output_type": "execute_result"
    }
   ],
   "source": [
    "c.needed_wrappers()"
   ]
  },
  {
   "cell_type": "code",
   "execution_count": 8,
   "id": "c7fe8c44",
   "metadata": {},
   "outputs": [
    {
     "name": "stdout",
     "output_type": "stream",
     "text": [
      "Your total sum is: 8.0 dollars\n"
     ]
    }
   ],
   "source": [
    "c.total_sum()"
   ]
  },
  {
   "cell_type": "code",
   "execution_count": null,
   "id": "50f766df",
   "metadata": {},
   "outputs": [],
   "source": []
  },
  {
   "cell_type": "code",
   "execution_count": null,
   "id": "e5d4e462",
   "metadata": {},
   "outputs": [],
   "source": []
  }
 ],
 "metadata": {
  "kernelspec": {
   "display_name": "Python 3 (ipykernel)",
   "language": "python",
   "name": "python3"
  },
  "language_info": {
   "codemirror_mode": {
    "name": "ipython",
    "version": 3
   },
   "file_extension": ".py",
   "mimetype": "text/x-python",
   "name": "python",
   "nbconvert_exporter": "python",
   "pygments_lexer": "ipython3",
   "version": "3.9.12"
  }
 },
 "nbformat": 4,
 "nbformat_minor": 5
}
