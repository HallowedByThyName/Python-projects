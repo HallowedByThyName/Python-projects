{
 "cells": [
  {
   "cell_type": "code",
   "execution_count": 1,
   "id": "1a8c0f14",
   "metadata": {},
   "outputs": [],
   "source": [
    "import random\n",
    "import string\n",
    "\n",
    "\n",
    "letters = string.ascii_lowercase\n",
    "letters_cap = string.ascii_uppercase\n",
    "digits = string.digits\n",
    "complete = letters + letters_cap + digits\n",
    "\n",
    "\n",
    "def password():\n",
    "    pwd_range = range(8,20)\n",
    "\n",
    "    while True:\n",
    "        n = int(input(\"Enter desired password lenght. It must be between 8 and 20 symbols: \"))\n",
    "        password_mixed = \"\". join(random.sample(complete, n))\n",
    "        if n not in pwd_range:\n",
    "            print(\"Incorrect password lenght. Select between 8 and 20 symbols.\")\n",
    "        else:\n",
    "            print(f\"Correct password lenght. Your password is: {password_mixed}\")\n",
    "            break"
   ]
  },
  {
   "cell_type": "code",
   "execution_count": 4,
   "id": "6b3b09c7",
   "metadata": {},
   "outputs": [
    {
     "name": "stdout",
     "output_type": "stream",
     "text": [
      "Enter desired password lenght. It must be between 8 and 20 symbols: 24\n",
      "Incorrect password lenght. Select between 8 and 20 symbols.\n",
      "Enter desired password lenght. It must be between 8 and 20 symbols: 28\n",
      "Incorrect password lenght. Select between 8 and 20 symbols.\n",
      "Enter desired password lenght. It must be between 8 and 20 symbols: 7\n",
      "Incorrect password lenght. Select between 8 and 20 symbols.\n",
      "Enter desired password lenght. It must be between 8 and 20 symbols: 15\n",
      "Correct password lenght. Your password is: IZOewQr2CN3uElJ\n"
     ]
    }
   ],
   "source": [
    "password()"
   ]
  },
  {
   "cell_type": "code",
   "execution_count": null,
   "id": "3ae11b8c",
   "metadata": {},
   "outputs": [],
   "source": []
  }
 ],
 "metadata": {
  "kernelspec": {
   "display_name": "Python 3 (ipykernel)",
   "language": "python",
   "name": "python3"
  },
  "language_info": {
   "codemirror_mode": {
    "name": "ipython",
    "version": 3
   },
   "file_extension": ".py",
   "mimetype": "text/x-python",
   "name": "python",
   "nbconvert_exporter": "python",
   "pygments_lexer": "ipython3",
   "version": "3.9.12"
  }
 },
 "nbformat": 4,
 "nbformat_minor": 5
}
