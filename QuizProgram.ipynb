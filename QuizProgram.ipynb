{
 "cells": [
  {
   "cell_type": "code",
   "execution_count": 4,
   "id": "1c646694",
   "metadata": {},
   "outputs": [],
   "source": [
    "quiz1 = {\"question\": \"Which is the capital of Belgium?\", \"answer\": \"Brussels\"}\n",
    "quiz2 = {\"question\": \"What's the name of the first Indiana Jones movie?\", \"answer\": \"Raiders of the Lost Ark\"}\n",
    "quiz3 = {\"question\": \"In which country is the Mayan city of Tikal located?\", \"answer\": \"Guatemala\"}\n",
    "quiz4 = {\"question\": \"When did the Boxer rebellion in China started?\", \"answer\": \"1900\"}\n",
    "quiz5 = {\"question\": \"Who ruled Russia from 1894 until 1917\", \"answer\": \"Tsar Nikolay II\"}\n",
    "quiz6 = {\"question\": \"What is the name of the fault, dividing the North American and the Pacific tectonic plates\", \"answer\": \"San Andreas\"}"
   ]
  },
  {
   "cell_type": "code",
   "execution_count": 5,
   "id": "d297dcb2",
   "metadata": {},
   "outputs": [],
   "source": [
    "def question1():\n",
    "    return list(quiz1.values())[0]"
   ]
  },
  {
   "cell_type": "code",
   "execution_count": 6,
   "id": "5c09c046",
   "metadata": {},
   "outputs": [],
   "source": [
    "def question2():\n",
    "    return list(quiz2.values())[0]"
   ]
  },
  {
   "cell_type": "code",
   "execution_count": 7,
   "id": "b0ca656d",
   "metadata": {},
   "outputs": [],
   "source": [
    "def question3():\n",
    "    return list(quiz3.values())[0]"
   ]
  },
  {
   "cell_type": "code",
   "execution_count": 8,
   "id": "77089be7",
   "metadata": {},
   "outputs": [],
   "source": [
    "def question4():\n",
    "    return list(quiz4.values())[0]"
   ]
  },
  {
   "cell_type": "code",
   "execution_count": 9,
   "id": "97cc0926",
   "metadata": {},
   "outputs": [],
   "source": [
    "def question5():\n",
    "    return list(quiz5.values())[0]"
   ]
  },
  {
   "cell_type": "code",
   "execution_count": 10,
   "id": "0f4d7f54",
   "metadata": {},
   "outputs": [],
   "source": [
    "def question6():\n",
    "    return list(quiz6.values())[0]"
   ]
  },
  {
   "cell_type": "code",
   "execution_count": null,
   "id": "8ebf0b91",
   "metadata": {},
   "outputs": [],
   "source": []
  },
  {
   "cell_type": "code",
   "execution_count": 11,
   "id": "947c11da",
   "metadata": {},
   "outputs": [],
   "source": [
    "correct_answer_1 = list(quiz1.values())[1]"
   ]
  },
  {
   "cell_type": "code",
   "execution_count": 12,
   "id": "4be09545",
   "metadata": {},
   "outputs": [],
   "source": [
    "correct_answer_2 = list(quiz2.values())[1]"
   ]
  },
  {
   "cell_type": "code",
   "execution_count": 13,
   "id": "819d02c0",
   "metadata": {},
   "outputs": [],
   "source": [
    "correct_answer_3 = list(quiz3.values())[1]"
   ]
  },
  {
   "cell_type": "code",
   "execution_count": 14,
   "id": "8645b4c2",
   "metadata": {},
   "outputs": [],
   "source": [
    "correct_answer_4 = list(quiz4.values())[1]"
   ]
  },
  {
   "cell_type": "code",
   "execution_count": 15,
   "id": "48d04f30",
   "metadata": {},
   "outputs": [],
   "source": [
    "correct_answer_5 = list(quiz5.values())[1]"
   ]
  },
  {
   "cell_type": "code",
   "execution_count": 16,
   "id": "b478cf00",
   "metadata": {},
   "outputs": [],
   "source": [
    "correct_answer_6 = list(quiz6.values())[1]"
   ]
  },
  {
   "cell_type": "code",
   "execution_count": 17,
   "id": "1bba1d49",
   "metadata": {},
   "outputs": [],
   "source": [
    "score = 0"
   ]
  },
  {
   "cell_type": "code",
   "execution_count": 18,
   "id": "5a94c82a",
   "metadata": {},
   "outputs": [],
   "source": [
    "def level_1():\n",
    "    print(question1())\n",
    "    user_answer = input(\"Answer: \")\n",
    "\n",
    "    while user_answer.lower() != correct_answer_1.lower():\n",
    "        print(\"Wrong answer! Try again\")\n",
    "        print(question1())\n",
    "        user_answer = input(\"Answer: \") \n",
    "        \n",
    "\n",
    "    while user_answer.lower() == correct_answer_1.lower():\n",
    "        print(\"Your answer is correct! +5 points!\")\n",
    "        global score\n",
    "        score += 5\n",
    "        break"
   ]
  },
  {
   "cell_type": "code",
   "execution_count": 19,
   "id": "bad99a9e",
   "metadata": {},
   "outputs": [],
   "source": [
    "def level_2():\n",
    "    print(question2())\n",
    "    user_answer = input(\"Answer: \")\n",
    "\n",
    "    while user_answer.lower() != correct_answer_2.lower():\n",
    "        print(\"Wrong answer! Try again\")\n",
    "        print(question2())\n",
    "        user_answer = input(\"Answer: \") \n",
    "        \n",
    "\n",
    "    while user_answer.lower() == correct_answer_2.lower():\n",
    "        print(\"Your answer is correct! +10 points!\")\n",
    "        global score\n",
    "        score += 10\n",
    "        break"
   ]
  },
  {
   "cell_type": "code",
   "execution_count": 20,
   "id": "55cd3495",
   "metadata": {},
   "outputs": [],
   "source": [
    "def level_3():\n",
    "    print(question3())\n",
    "    user_answer = input(\"Answer: \")\n",
    "\n",
    "    while user_answer.lower() != correct_answer_3.lower():\n",
    "        print(\"Wrong answer! Try again\")\n",
    "        print(question3())\n",
    "        user_answer = input(\"Answer: \") \n",
    "        \n",
    "\n",
    "    while user_answer.lower() == correct_answer_3.lower():\n",
    "        print(\"Your answer is correct! +20 points!\")\n",
    "        global score\n",
    "        score += 20\n",
    "        break"
   ]
  },
  {
   "cell_type": "code",
   "execution_count": 21,
   "id": "e3b77ecd",
   "metadata": {},
   "outputs": [],
   "source": [
    "def level_4():\n",
    "    print(question4())\n",
    "    user_answer = input(\"Answer: \")\n",
    "\n",
    "    while user_answer.lower() != correct_answer_4.lower():\n",
    "        print(\"Wrong answer! Try again\")\n",
    "        print(question4())\n",
    "        user_answer = input(\"Answer: \") \n",
    "        \n",
    "\n",
    "    while user_answer.lower() == correct_answer_4.lower():\n",
    "        print(\"Your answer is correct! +25 points!\")\n",
    "        global score\n",
    "        score += 25\n",
    "        break"
   ]
  },
  {
   "cell_type": "code",
   "execution_count": 22,
   "id": "29306806",
   "metadata": {},
   "outputs": [],
   "source": [
    "def level_5():\n",
    "    print(question5())\n",
    "    user_answer = input(\"Answer: \")\n",
    "\n",
    "    while user_answer.lower() != correct_answer_5.lower():\n",
    "        print(\"Wrong answer! Try again\")\n",
    "        print(question5())\n",
    "        user_answer = input(\"Answer: \") \n",
    "        \n",
    "\n",
    "    while user_answer.lower() == correct_answer_5.lower():\n",
    "        print(\"Your answer is correct! +30 points!\")\n",
    "        global score\n",
    "        score += 30\n",
    "        break"
   ]
  },
  {
   "cell_type": "code",
   "execution_count": 23,
   "id": "c7e4fdb9",
   "metadata": {},
   "outputs": [],
   "source": [
    "def level_6():\n",
    "    print(question6())\n",
    "    user_answer = input(\"Answer: \")\n",
    "\n",
    "    while user_answer.lower() != correct_answer_6.lower():\n",
    "        print(\"Wrong answer! Try again\")\n",
    "        print(question6())\n",
    "        user_answer = input(\"Answer: \") \n",
    "        \n",
    "\n",
    "    while user_answer.lower() == correct_answer_6.lower():\n",
    "        print(\"Your answer is correct! +40 points!\")\n",
    "        global score\n",
    "        score += 40\n",
    "        print(f\"Game is over. Your final score is {score}\")\n",
    "        break"
   ]
  },
  {
   "cell_type": "code",
   "execution_count": 24,
   "id": "88fccf28",
   "metadata": {},
   "outputs": [],
   "source": [
    "def game_on():\n",
    "    print(question1())\n",
    "    user_answer = input(\"Answer: \")\n",
    "\n",
    "    while user_answer.lower() != correct_answer_1.lower():\n",
    "        print(\"Wrong answer! -1 points. Try again\")\n",
    "        print(question1())\n",
    "        user_answer = input(\"Answer: \") \n",
    "        \n",
    "\n",
    "    while user_answer.lower() == correct_answer_1.lower():\n",
    "        print(\"Your answer is correct! +5 points!\")\n",
    "        global score\n",
    "        score += 5\n",
    "        break\n",
    "    \n",
    "    print(question2())\n",
    "    user_answer = input(\"Answer: \")\n",
    "\n",
    "    while user_answer.lower() != correct_answer_2.lower():\n",
    "        print(\"Wrong answer! -1 points. Try again\")\n",
    "        score -= 1\n",
    "        print(question2())\n",
    "        user_answer = input(\"Answer: \") \n",
    "        \n",
    "\n",
    "    while user_answer.lower() == correct_answer_2.lower():\n",
    "        print(\"Your answer is correct! +10 points!\")\n",
    "        score += 10\n",
    "        break\n",
    "    \n",
    "    print(question3())\n",
    "    user_answer = input(\"Answer: \")\n",
    "\n",
    "    while user_answer.lower() != correct_answer_3.lower():\n",
    "        print(\"Wrong answer! -1 points. Try again\")\n",
    "        score -= 1\n",
    "        print(question3())\n",
    "        user_answer = input(\"Answer: \") \n",
    "        \n",
    "\n",
    "    while user_answer.lower() == correct_answer_3.lower():\n",
    "        print(\"Your answer is correct! +20 points!\")\n",
    "        score += 20\n",
    "        break\n",
    "        \n",
    "        \n",
    "    print(question4())\n",
    "    user_answer = input(\"Answer: \")\n",
    "\n",
    "    while user_answer.lower() != correct_answer_4.lower():\n",
    "        print(\"Wrong answer! -1 points. Try again\")\n",
    "        score -= 1\n",
    "        print(question4())\n",
    "        user_answer = input(\"Answer: \") \n",
    "        \n",
    "\n",
    "    while user_answer.lower() == correct_answer_4.lower():\n",
    "        print(\"Your answer is correct! +25 points!\")\n",
    "        score += 25\n",
    "        break\n",
    "        \n",
    "    print(question5())\n",
    "    user_answer = input(\"Answer: \")\n",
    "\n",
    "    while user_answer.lower() != correct_answer_5.lower():\n",
    "        print(\"Wrong answer! -1 points. Try again\")\n",
    "        score -= 1\n",
    "        print(question5())\n",
    "        user_answer = input(\"Answer: \") \n",
    "        \n",
    "\n",
    "    while user_answer.lower() == correct_answer_5.lower():\n",
    "        print(\"Your answer is correct! +30 points!\")\n",
    "        score += 30\n",
    "        break\n",
    "        \n",
    "        \n",
    "    print(question6())\n",
    "    user_answer = input(\"Answer: \")\n",
    "\n",
    "    while user_answer.lower() != correct_answer_6.lower():\n",
    "        print(\"Wrong answer! -1 points. Try again\")\n",
    "        score -= 1\n",
    "        print(question6())\n",
    "        user_answer = input(\"Answer: \") \n",
    "        \n",
    "\n",
    "    while user_answer.lower() == correct_answer_6.lower():\n",
    "        print(\"Your answer is correct! +40 points!\")\n",
    "        score += 40\n",
    "        print(f\"Game is over. Your final score is {score}\")\n",
    "        break"
   ]
  },
  {
   "cell_type": "code",
   "execution_count": null,
   "id": "481bc8ba",
   "metadata": {},
   "outputs": [],
   "source": []
  },
  {
   "cell_type": "code",
   "execution_count": null,
   "id": "b7eb83d8",
   "metadata": {},
   "outputs": [],
   "source": []
  },
  {
   "cell_type": "code",
   "execution_count": null,
   "id": "a174ba8d",
   "metadata": {},
   "outputs": [],
   "source": []
  },
  {
   "cell_type": "code",
   "execution_count": null,
   "id": "fbb1f660",
   "metadata": {},
   "outputs": [],
   "source": []
  },
  {
   "cell_type": "code",
   "execution_count": null,
   "id": "63eade45",
   "metadata": {},
   "outputs": [],
   "source": []
  },
  {
   "cell_type": "code",
   "execution_count": null,
   "id": "ba31579c",
   "metadata": {},
   "outputs": [],
   "source": []
  }
 ],
 "metadata": {
  "kernelspec": {
   "display_name": "Python 3 (ipykernel)",
   "language": "python",
   "name": "python3"
  },
  "language_info": {
   "codemirror_mode": {
    "name": "ipython",
    "version": 3
   },
   "file_extension": ".py",
   "mimetype": "text/x-python",
   "name": "python",
   "nbconvert_exporter": "python",
   "pygments_lexer": "ipython3",
   "version": "3.9.12"
  }
 },
 "nbformat": 4,
 "nbformat_minor": 5
}
